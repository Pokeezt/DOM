{
  "nbformat": 4,
  "nbformat_minor": 0,
  "metadata": {
    "colab": {
      "provenance": [],
      "name": "recuperacao.ipynb",
      "authorship_tag": "ABX9TyNCDC9kEtOvjQTe72IQquJQ",
      "include_colab_link": true
    },
    "kernelspec": {
      "name": "python3",
      "display_name": "Python 3"
    },
    "language_info": {
      "name": "python"
    }
  },
  "cells": [
    {
      "cell_type": "markdown",
      "metadata": {
        "id": "view-in-github",
        "colab_type": "text"
      },
      "source": [
        "<a href=\"https://colab.research.google.com/github/Pokeezt/DOM/blob/main/recuperacao.ipynb\" target=\"_parent\"><img src=\"https://colab.research.google.com/assets/colab-badge.svg\" alt=\"Open In Colab\"/></a>"
      ]
    },
    {
      "cell_type": "code",
      "execution_count": null,
      "metadata": {
        "id": "T9Rt-Asd3sRZ"
      },
      "outputs": [],
      "source": [
        "# tipos em python\n",
        "#números inteiros\n",
        "\n",
        "numero_inteiro = 10\n",
        "texto - \"texto string\"\n",
        "verdadeiro_ou_falso = True | False\n",
        "numero_float = 10.5\n",
        "numero_double = 10.5\n"
      ]
    },
    {
      "cell_type": "code",
      "source": [
        "#Funçôes, identação\n",
        "def soma(numero_1, numero_2):\n",
        "  return numero_1 + numero_2\n",
        "\n",
        "soma(2, 4)"
      ],
      "metadata": {
        "colab": {
          "base_uri": "https://localhost:8080/"
        },
        "id": "Pf6NtPUl_Lrv",
        "outputId": "d7fcbe79-10ec-49ba-f259-d9a42b14864c"
      },
      "execution_count": null,
      "outputs": [
        {
          "output_type": "execute_result",
          "data": {
            "text/plain": [
              "6"
            ]
          },
          "metadata": {},
          "execution_count": 1
        }
      ]
    },
    {
      "cell_type": "code",
      "source": [
        "#Listas / Array\n",
        "\n",
        "lista_numeros = [2, 3, 5, 10]\n",
        "\n",
        "#Adiciona novo número\n",
        "lista_numeros.append(8)\n",
        "\n",
        "#Remove um número\n",
        "lista_numeros.remove(3)\n",
        "\n",
        "# Ordena\n",
        "lista_numeros.sort(reverse=True)\n",
        "\n",
        "lista_numeros\n",
        "#"
      ],
      "metadata": {
        "colab": {
          "base_uri": "https://localhost:8080/"
        },
        "id": "lJ5UoOXFAx9Z",
        "outputId": "26b19d25-a674-4d59-e618-d78bb9b9ab3d"
      },
      "execution_count": null,
      "outputs": [
        {
          "output_type": "execute_result",
          "data": {
            "text/plain": [
              "[10, 8, 5, 2]"
            ]
          },
          "metadata": {},
          "execution_count": 6
        }
      ]
    },
    {
      "cell_type": "code",
      "source": [
        "# Estrutura de condicional if\n",
        "idade = 16\n",
        "if idade >= 18:\n",
        "  print('Maior de idade')\n",
        "else :\n",
        "  print('Menor de idade')"
      ],
      "metadata": {
        "colab": {
          "base_uri": "https://localhost:8080/"
        },
        "id": "aH7J8uRMET6J",
        "outputId": "d91d5641-1157-4ebe-c9b1-38bdbc64628f"
      },
      "execution_count": null,
      "outputs": [
        {
          "output_type": "stream",
          "name": "stdout",
          "text": [
            "Menor de idade\n"
          ]
        }
      ]
    },
    {
      "cell_type": "code",
      "source": [
        "# Estrutura de repetição (loop) for\n",
        "\n",
        "lista_numero = [1, 5]\n",
        "\n",
        "index = 0\n",
        "for numero in lista_numero:\n",
        "  index += 1\n",
        "  print(index)"
      ],
      "metadata": {
        "colab": {
          "base_uri": "https://localhost:8080/"
        },
        "id": "9vjzYnMgFUpa",
        "outputId": "6333cbf3-652e-4705-fe40-1d14d667ced3"
      },
      "execution_count": null,
      "outputs": [
        {
          "output_type": "stream",
          "name": "stdout",
          "text": [
            "1\n",
            "2\n"
          ]
        }
      ]
    },
    {
      "cell_type": "code",
      "source": [
        "# Estrutura de repetição (loop) for\n",
        "\n",
        "lista_numero = [1, 5]\n",
        "\n",
        "for numero in lista_numero:\n",
        "  print(numero)"
      ],
      "metadata": {
        "colab": {
          "base_uri": "https://localhost:8080/"
        },
        "id": "1jMAEgMhH5s3",
        "outputId": "3923a65d-9bfd-4603-94db-7d1575f09307"
      },
      "execution_count": null,
      "outputs": [
        {
          "output_type": "stream",
          "name": "stdout",
          "text": [
            "1\n",
            "5\n"
          ]
        }
      ]
    },
    {
      "cell_type": "code",
      "source": [
        "# Estrutura de repetição (loop) for\n",
        "\n",
        "lista_numero = [1, 5, 7, 9]\n",
        "\n",
        "index = 0\n",
        "for numero in lista_numero:\n",
        "  index += 20\n",
        "  print('index = {0} - numero = {1}' .format(index, numero))"
      ],
      "metadata": {
        "colab": {
          "base_uri": "https://localhost:8080/"
        },
        "id": "z5EYgKWnJf8N",
        "outputId": "7c6c0caf-518d-42e5-bc92-dc20f61742df"
      },
      "execution_count": null,
      "outputs": [
        {
          "output_type": "stream",
          "name": "stdout",
          "text": [
            "index = 20 - numero = 1\n",
            "index = 40 - numero = 5\n",
            "index = 60 - numero = 7\n",
            "index = 80 - numero = 9\n"
          ]
        }
      ]
    },
    {
      "cell_type": "code",
      "source": [
        "# vamos receber 10 numeros e retornar um lista com o dobro\n",
        "\n",
        "lista_numeros = []\n",
        "for index in range(10):\n",
        "  numero = int(input(\"Digite um número: \"))\n",
        "  lista_numeros.append(numero * 2)\n",
        "\n",
        "lista_numeros"
      ],
      "metadata": {
        "colab": {
          "base_uri": "https://localhost:8080/"
        },
        "id": "9Zm5VRXbNf1U",
        "outputId": "21afeb2f-8874-410b-ec6d-88f80ad9aca7"
      },
      "execution_count": null,
      "outputs": [
        {
          "name": "stdout",
          "output_type": "stream",
          "text": [
            "Digite um número: 2\n",
            "Digite um número: 4\n",
            "Digite um número: 5\n",
            "Digite um número: 1\n",
            "Digite um número: 2\n",
            "Digite um número: 5\n",
            "Digite um número: 8\n",
            "Digite um número: 9\n",
            "Digite um número: 12\n",
            "Digite um número: 10\n"
          ]
        },
        {
          "output_type": "execute_result",
          "data": {
            "text/plain": [
              "[4, 8, 10, 2, 4, 10, 16, 18, 24, 20]"
            ]
          },
          "metadata": {},
          "execution_count": 37
        }
      ]
    },
    {
      "cell_type": "code",
      "source": [
        "# receber valores int(input('texto'))\n",
        "\n",
        "numero = input(\"Digite um números: \")"
      ],
      "metadata": {
        "id": "VZrU6X0ELtWr"
      },
      "execution_count": null,
      "outputs": []
    }
  ]
}